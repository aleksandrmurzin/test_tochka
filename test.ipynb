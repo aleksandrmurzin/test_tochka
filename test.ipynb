{
 "cells": [
  {
   "cell_type": "markdown",
   "metadata": {},
   "source": [
    "#### Необходимо построить предиктивную модель, которая на основании открытых данных о судах и бухгалтерской отчетности позволит спрогнозировать вероятность банкротства компании. "
   ]
  },
  {
   "cell_type": "markdown",
   "metadata": {},
   "source": [
    "\n",
    "- [x]  Задача бинарной классификаци, 1-компания вероятно станет банкротом, 0-компания не имеет предпосылок для банкротства\n",
    "    - [x]  Целевые метрики accuracy, presicion, recall, f1, roc_auc_score\n",
    "- [x]  Подгрузить библиотеки, данные из .csv и .json\n",
    "    - [x]  Подготовить данные из предостваленных .csv файлов\n",
    "        - [x]  Привести форматы данных для необходимых в работе, обьединить таблицы, обьявить целевую переменную\n",
    "    - [x]  Подготовить данные из открытых источников\n",
    "        - [x]  Выгрузить данные из открытых источников, цель получить на каждый инн информацию о кол-ве суд. дел в качетсве истца, ответчика.\n",
    "        - [x]  Обьединить все доступные данные\n",
    "- [x]  Подготовить данные для обучения\n",
    "    - [x]  Разбить на тренировочную и тестовую выборки из соотношения 4 к 1\n",
    "    - [x]  Произвести обучение на automl \n",
    "    - [x]  Оценить результаты по выбранным метрикам"
   ]
  },
  {
   "cell_type": "markdown",
   "metadata": {},
   "source": [
    "#### Импортируем библиотеки"
   ]
  },
  {
   "cell_type": "code",
   "execution_count": 1,
   "metadata": {},
   "outputs": [],
   "source": [
    "import pandas as pd\n",
    "import numpy as np\n",
    "import matplotlib.pyplot as plt\n",
    "import seaborn as sns\n",
    "import os\n",
    "import zipfile\n",
    "import pandas_profiling"
   ]
  },
  {
   "cell_type": "code",
   "execution_count": 2,
   "metadata": {},
   "outputs": [
    {
     "name": "stderr",
     "output_type": "stream",
     "text": [
      "C:\\ProgramData\\Anaconda3\\lib\\site-packages\\requests\\__init__.py:91: RequestsDependencyWarning: urllib3 (1.26.4) or chardet (3.0.4) doesn't match a supported version!\n",
      "  RequestsDependencyWarning)\n"
     ]
    }
   ],
   "source": [
    "import tpot\n",
    "from tpot import TPOTClassifier\n",
    "from sklearn.model_selection import RepeatedStratifiedKFold\n",
    "from sklearn.model_selection import train_test_split\n",
    "from sklearn.pipeline import Pipeline\n",
    "from sklearn.impute import SimpleImputer\n",
    "from sklearn.preprocessing import StandardScaler\n",
    "from sklearn.metrics import (roc_auc_score, accuracy_score,\n",
    "                             f1_score, recall_score, precision_score)"
   ]
  },
  {
   "cell_type": "code",
   "execution_count": 3,
   "metadata": {},
   "outputs": [],
   "source": [
    "# ./\n",
    "# │\n",
    "# ├── df_accounts_sample.csv\n",
    "# ├── df_bankruptcies_sample.csv\n",
    "# ├── court_cases_sample.zip\n",
    "# └── model.pkl"
   ]
  },
  {
   "cell_type": "markdown",
   "metadata": {},
   "source": [
    "#### Подгружаем данные"
   ]
  },
  {
   "cell_type": "code",
   "execution_count": 4,
   "metadata": {},
   "outputs": [],
   "source": [
    "df_ac = pd.read_csv(\"df_accounts_sample.csv\",\n",
    "                    usecols=['inn', 'year', 'long_term_liabilities_fiscal_year',\n",
    "                             'short_term_liabilities_fiscal_year',\n",
    "                             'balance_assets_fiscal_year', 'okei'],\n",
    "                    dtype={'inn': 'str',\n",
    "                           'long_term_liabilities_fiscal_year': 'float',\n",
    "                           'short_term_liabilities_fiscal_year': 'float',\n",
    "                           'balance_assets_fiscal_year': 'float',\n",
    "                           'okei': \"str\"})"
   ]
  },
  {
   "cell_type": "code",
   "execution_count": 5,
   "metadata": {},
   "outputs": [],
   "source": [
    "df_bnk = pd.read_csv(\"df_bankruptcies_sample.csv\",\n",
    "                     usecols=['bankrupt_id', 'bancrupt_year', 'inn'],\n",
    "                     dtype={'bankrupt_id': 'str',\n",
    "                            'bancrupt_year': 'int',\n",
    "                            'inn': 'str'})"
   ]
  },
  {
   "cell_type": "code",
   "execution_count": 6,
   "metadata": {},
   "outputs": [],
   "source": [
    "df_ac.columns = ['inn', 'year', 'lt', 'st', 'bl', 'okei']\n",
    "df_bnk.columns = ['bnk_id', 'bnk_year', 'inn']"
   ]
  },
  {
   "cell_type": "code",
   "execution_count": 7,
   "metadata": {},
   "outputs": [
    {
     "name": "stdout",
     "output_type": "stream",
     "text": [
      "<class 'pandas.core.frame.DataFrame'>\n",
      "RangeIndex: 1035 entries, 0 to 1034\n",
      "Data columns (total 6 columns):\n",
      " #   Column  Non-Null Count  Dtype  \n",
      "---  ------  --------------  -----  \n",
      " 0   inn     1035 non-null   object \n",
      " 1   year    1035 non-null   int64  \n",
      " 2   lt      960 non-null    float64\n",
      " 3   st      1035 non-null   float64\n",
      " 4   bl      1035 non-null   float64\n",
      " 5   okei    1035 non-null   object \n",
      "dtypes: float64(3), int64(1), object(2)\n",
      "memory usage: 48.6+ KB\n"
     ]
    }
   ],
   "source": [
    "df_ac.info() # с пропусками в long_term_liabilities_fiscal_year разберемся в на этапе подготовки данных"
   ]
  },
  {
   "cell_type": "code",
   "execution_count": 8,
   "metadata": {},
   "outputs": [
    {
     "name": "stdout",
     "output_type": "stream",
     "text": [
      "<class 'pandas.core.frame.DataFrame'>\n",
      "RangeIndex: 106 entries, 0 to 105\n",
      "Data columns (total 3 columns):\n",
      " #   Column    Non-Null Count  Dtype \n",
      "---  ------    --------------  ----- \n",
      " 0   bnk_id    106 non-null    object\n",
      " 1   bnk_year  106 non-null    int32 \n",
      " 2   inn       106 non-null    object\n",
      "dtypes: int32(1), object(2)\n",
      "memory usage: 2.2+ KB\n"
     ]
    }
   ],
   "source": [
    "df_bnk.info()"
   ]
  },
  {
   "cell_type": "code",
   "execution_count": 9,
   "metadata": {},
   "outputs": [],
   "source": [
    "df = df_ac.merge(df_bnk, how='outer', on='inn') # соединяем таблица по inn"
   ]
  },
  {
   "cell_type": "code",
   "execution_count": null,
   "metadata": {},
   "outputs": [],
   "source": [
    "df.head(3)"
   ]
  },
  {
   "cell_type": "code",
   "execution_count": 10,
   "metadata": {},
   "outputs": [],
   "source": [
    "def money_conv(x, y):\n",
    "    if y == '384':\n",
    "        pass\n",
    "    elif y == '383':\n",
    "        x = x / 1000.\n",
    "    elif y == '385':\n",
    "        x = x*1000\n",
    "    return x\n",
    "\n",
    "# приодми денежные единицы к одинаковому отображению в тысячах\n",
    "for i in ['st', 'lt', 'bl']:\n",
    "    df[i] = df.apply(lambda x: money_conv(x[i], x['okei']), axis=1)"
   ]
  },
  {
   "cell_type": "code",
   "execution_count": 11,
   "metadata": {},
   "outputs": [],
   "source": [
    "# делаем целевую переменную\n",
    "df['target'] = df['bnk_id'].apply(lambda x: 1 if x == x else 0)"
   ]
  },
  {
   "cell_type": "code",
   "execution_count": 12,
   "metadata": {},
   "outputs": [],
   "source": [
    "# удаляем столбцы не нужные для моделирования\n",
    "df.drop(columns=['year', 'bnk_id', 'bnk_year', 'okei'], inplace=True)"
   ]
  },
  {
   "cell_type": "markdown",
   "metadata": {},
   "source": [
    "#### Подгружаем внешние данные"
   ]
  },
  {
   "cell_type": "code",
   "execution_count": 13,
   "metadata": {},
   "outputs": [],
   "source": [
    "path = get_ipython().run_line_magic('pwd', '')"
   ]
  },
  {
   "cell_type": "code",
   "execution_count": 14,
   "metadata": {},
   "outputs": [],
   "source": [
    "with zipfile.ZipFile(os.path.join(path, \"court_cases_sample.zip\"), 'r') as zip_ref:\n",
    "    zip_ref.extractall(path)"
   ]
  },
  {
   "cell_type": "code",
   "execution_count": 15,
   "metadata": {},
   "outputs": [],
   "source": [
    "def flatten_json(y):\n",
    "    \"\"\"Функция для разглаживания .json и приведения его в плоский словарь\"\"\"\n",
    "    def flatten(x, name=''):\n",
    "        if type(x) is dict:\n",
    "            for a in x:\n",
    "                flatten(x[a], name + a + '_')\n",
    "        elif type(x) is list:\n",
    "            i = 0\n",
    "            for a in x:\n",
    "                flatten(a, name + str(i) + '_')\n",
    "                i += 1\n",
    "        elif \"\".join(name.split(\"_\")[-2]) in out:\n",
    "            out[\"\".join(name.split(\"_\")[-2])].append(x)\n",
    "        else:\n",
    "            out[\"\".join(name.split(\"_\")[-2])] = []\n",
    "\n",
    "    flatten(y)\n",
    "    return out"
   ]
  },
  {
   "cell_type": "code",
   "execution_count": 16,
   "metadata": {},
   "outputs": [],
   "source": [
    "out = {}\n",
    "\n",
    "for file in os.listdir(os.path.join(path, 'success')):\n",
    "    if file.split(\".\")[-1] == 'pkl':\n",
    "        try:\n",
    "            res = flatten_json(pd.read_pickle(\n",
    "                    os.path.join(path, 'success', file)))\n",
    "        except:\n",
    "            pass"
   ]
  },
  {
   "cell_type": "code",
   "execution_count": 17,
   "metadata": {},
   "outputs": [],
   "source": [
    "#собираем датасет из внешних данных\n",
    "df_sc = pd.DataFrame((out[\"INN\"], out['type'], out['OGRN'])).T\n",
    "df_sc.dropna(inplace=True)\n",
    "df_sc.columns = ['inn', 'type', 'ogrn']"
   ]
  },
  {
   "cell_type": "code",
   "execution_count": 18,
   "metadata": {},
   "outputs": [],
   "source": [
    "df_sc['type_c'] = df_sc['type']"
   ]
  },
  {
   "cell_type": "code",
   "execution_count": 19,
   "metadata": {},
   "outputs": [],
   "source": [
    "df_sc['inn'].replace('', np.nan, inplace=True)"
   ]
  },
  {
   "cell_type": "code",
   "execution_count": 20,
   "metadata": {},
   "outputs": [],
   "source": [
    "df_sc.dropna(inplace=True)"
   ]
  },
  {
   "cell_type": "code",
   "execution_count": 21,
   "metadata": {},
   "outputs": [],
   "source": [
    "# идея для каждого инн выдать количество судебных дел \n",
    "# для которого данная клиент был либо истцом, ответчиком и тп.\n",
    "df_sc_gr = df_sc.groupby(['inn', 'type']).count()"
   ]
  },
  {
   "cell_type": "code",
   "execution_count": 22,
   "metadata": {},
   "outputs": [],
   "source": [
    "df_sc_gr.reset_index(inplace=True)"
   ]
  },
  {
   "cell_type": "code",
   "execution_count": 23,
   "metadata": {},
   "outputs": [],
   "source": [
    "df_sc_gr = df_sc_gr.pivot_table(values=['type_c'],\n",
    "                                index=['inn'],\n",
    "                                columns=['type'])"
   ]
  },
  {
   "cell_type": "code",
   "execution_count": 24,
   "metadata": {},
   "outputs": [],
   "source": [
    "df_sc_gr.fillna(0, inplace=True)"
   ]
  },
  {
   "cell_type": "code",
   "execution_count": 25,
   "metadata": {},
   "outputs": [],
   "source": [
    "df_sc_gr.reset_index(inplace=True)"
   ]
  },
  {
   "cell_type": "code",
   "execution_count": 26,
   "metadata": {},
   "outputs": [
    {
     "name": "stderr",
     "output_type": "stream",
     "text": [
      "C:\\ProgramData\\Anaconda3\\lib\\site-packages\\pandas\\core\\reshape\\merge.py:648: UserWarning: merging between different levels can give an unintended result (1 levels on the left,2 on the right)\n",
      "  warnings.warn(msg, UserWarning)\n",
      "C:\\ProgramData\\Anaconda3\\lib\\site-packages\\pandas\\core\\generic.py:4153: PerformanceWarning: dropping on a non-lexsorted multi-index without a level parameter may impact performance.\n",
      "  obj = obj._drop_axis(labels, axis, level=level, errors=errors)\n"
     ]
    }
   ],
   "source": [
    "# объединяем с исходной таблицей\n",
    "df = df.merge(df_sc_gr, on='inn', how='left')"
   ]
  },
  {
   "cell_type": "code",
   "execution_count": null,
   "metadata": {},
   "outputs": [],
   "source": [
    "df.head(3)"
   ]
  },
  {
   "cell_type": "code",
   "execution_count": 27,
   "metadata": {},
   "outputs": [
    {
     "data": {
      "text/plain": [
       "1    641\n",
       "0    394\n",
       "Name: target, dtype: int64"
      ]
     },
     "execution_count": 27,
     "metadata": {},
     "output_type": "execute_result"
    }
   ],
   "source": [
    "# данные сбалансированы\n",
    "df['target'].value_counts()"
   ]
  },
  {
   "cell_type": "code",
   "execution_count": 28,
   "metadata": {},
   "outputs": [
    {
     "data": {
      "text/plain": [
       "<matplotlib.axes._subplots.AxesSubplot at 0x1bb316d8940>"
      ]
     },
     "execution_count": 28,
     "metadata": {},
     "output_type": "execute_result"
    },
    {
     "data": {
      "image/png": "[encoded data removed]",
      "text/plain": [
       "<Figure size 720x720 with 2 Axes>"
      ]
     },
     "metadata": {
      "needs_background": "light"
     },
     "output_type": "display_data"
    }
   ],
   "source": [
    "# посмотрим на зависимость фичей друг от друга\n",
    "pearsoncorr = df.corr(method='pearson')\n",
    "fig, ax = plt.subplots(figsize=(10, 10))\n",
    "sns.heatmap(pearsoncorr,\n",
    "            xticklabels=pearsoncorr.columns,\n",
    "            yticklabels=pearsoncorr.columns,\n",
    "            cmap='RdBu_r',\n",
    "            annot=True,\n",
    "            linewidth=0.5)"
   ]
  },
  {
   "cell_type": "code",
   "execution_count": 29,
   "metadata": {},
   "outputs": [],
   "source": [
    "# разбиваем на трейн тест\n",
    "data = df.drop('target', axis=1)\n",
    "target = df['target']\n",
    "\n",
    "X_train, X_test, y_train, y_test = train_test_split(\n",
    "    data, target, test_size=0.2, random_state=42)"
   ]
  },
  {
   "cell_type": "code",
   "execution_count": 30,
   "metadata": {},
   "outputs": [],
   "source": [
    "# оставляем id компаний\n",
    "X_train_id = X_train['inn']\n",
    "X_test_id = X_test['inn']"
   ]
  },
  {
   "cell_type": "code",
   "execution_count": 31,
   "metadata": {},
   "outputs": [
    {
     "name": "stderr",
     "output_type": "stream",
     "text": [
      "C:\\ProgramData\\Anaconda3\\lib\\site-packages\\pandas\\core\\frame.py:4315: SettingWithCopyWarning: \n",
      "A value is trying to be set on a copy of a slice from a DataFrame\n",
      "\n",
      "See the caveats in the documentation: https://pandas.pydata.org/pandas-docs/stable/user_guide/indexing.html#returning-a-view-versus-a-copy\n",
      "  errors=errors,\n"
     ]
    }
   ],
   "source": [
    "X_train.drop(columns=['inn'], inplace=True)\n",
    "X_test.drop(columns=['inn'], inplace=True)"
   ]
  },
  {
   "cell_type": "code",
   "execution_count": 32,
   "metadata": {},
   "outputs": [],
   "source": [
    "# подготавливаем даные\n",
    "preparation_pipeline = Pipeline([\n",
    "        ('imputer', SimpleImputer(fill_value=0)),\n",
    "        ('std_scaler', StandardScaler())])"
   ]
  },
  {
   "cell_type": "code",
   "execution_count": 33,
   "metadata": {},
   "outputs": [],
   "source": [
    "X_train = preparation_pipeline.fit_transform(X_train)\n",
    "X_test = preparation_pipeline.transform(X_test)"
   ]
  },
  {
   "cell_type": "code",
   "execution_count": 34,
   "metadata": {},
   "outputs": [],
   "source": [
    "# обучаем модель через automl\n",
    "cv = RepeatedStratifiedKFold(n_splits=10, n_repeats=3, random_state=1)\n",
    "\n",
    "model = TPOTClassifier(generations=5,\n",
    "                       population_size=50,\n",
    "                       cv=cv, scoring='accuracy',\n",
    "                       verbosity=2, random_state=1)\n",
    "# perform the search"
   ]
  },
  {
   "cell_type": "code",
   "execution_count": 35,
   "metadata": {},
   "outputs": [
    {
     "data": {
      "application/vnd.jupyter.widget-view+json": {
       "model_id": "",
       "version_major": 2,
       "version_minor": 0
      },
      "text/plain": [
       "Optimization Progress:   0%|          | 0/300 [00:00<?, ?pipeline/s]"
      ]
     },
     "metadata": {},
     "output_type": "display_data"
    },
    {
     "name": "stdout",
     "output_type": "stream",
     "text": [
      "\n",
      "Generation 1 - Current best internal CV score: 0.9734058183955334\n",
      "\n",
      "Generation 2 - Current best internal CV score: 0.9734058183955334\n",
      "\n",
      "Generation 3 - Current best internal CV score: 0.9734058183955334\n",
      "\n",
      "Generation 4 - Current best internal CV score: 0.9734058183955334\n",
      "\n",
      "Generation 5 - Current best internal CV score: 0.9734058183955334\n",
      "\n",
      "Best pipeline: DecisionTreeClassifier(ExtraTreesClassifier(input_matrix, bootstrap=False, criterion=entropy, max_features=0.3, min_samples_leaf=1, min_samples_split=5, n_estimators=100), criterion=gini, max_depth=4, min_samples_leaf=13, min_samples_split=12)\n"
     ]
    },
    {
     "data": {
      "text/plain": [
       "TPOTClassifier(cv=RepeatedStratifiedKFold(n_repeats=3, n_splits=10, random_state=1),\n",
       "               generations=5, population_size=50, random_state=1,\n",
       "               scoring='accuracy', verbosity=2)"
      ]
     },
     "execution_count": 35,
     "metadata": {},
     "output_type": "execute_result"
    }
   ],
   "source": [
    "model.fit(X_train, y_train)"
   ]
  },
  {
   "cell_type": "code",
   "execution_count": 36,
   "metadata": {},
   "outputs": [],
   "source": [
    "pred = model.predict(X_test)"
   ]
  },
  {
   "cell_type": "code",
   "execution_count": 37,
   "metadata": {},
   "outputs": [],
   "source": [
    "# смотрим результат на тесте"
   ]
  },
  {
   "cell_type": "code",
   "execution_count": 38,
   "metadata": {},
   "outputs": [],
   "source": [
    "result = {\n",
    "        'accuracy_score': accuracy_score(y_test, pred),\n",
    "        'recall_score': recall_score(y_test, pred),\n",
    "        'precision_score': precision_score(y_test, pred),\n",
    "        'f1_score': f1_score(y_test, pred),\n",
    "        'roc_auc_score': roc_auc_score(y_test, pred)}"
   ]
  },
  {
   "cell_type": "code",
   "execution_count": 39,
   "metadata": {},
   "outputs": [
    {
     "data": {
      "text/plain": [
       "{'accuracy_score': 0.9855072463768116,\n",
       " 'recall_score': 0.9924812030075187,\n",
       " 'precision_score': 0.9850746268656716,\n",
       " 'f1_score': 0.9887640449438201,\n",
       " 'roc_auc_score': 0.9827270879902459}"
      ]
     },
     "execution_count": 39,
     "metadata": {},
     "output_type": "execute_result"
    }
   ],
   "source": [
    "result"
   ]
  },
  {
   "cell_type": "code",
   "execution_count": 42,
   "metadata": {
    "scrolled": true
   },
   "outputs": [],
   "source": [
    "model.export('model.pkl')"
   ]
  }
 ],
 "metadata": {
  "kernelspec": {
   "display_name": "Python 3",
   "language": "python",
   "name": "python3"
  },
  "language_info": {
   "codemirror_mode": {
    "name": "ipython",
    "version": 3
   },
   "file_extension": ".py",
   "mimetype": "text/x-python",
   "name": "python",
   "nbconvert_exporter": "python",
   "pygments_lexer": "ipython3",
   "version": "3.7.3"
  }
 },
 "nbformat": 4,
 "nbformat_minor": 2
}
